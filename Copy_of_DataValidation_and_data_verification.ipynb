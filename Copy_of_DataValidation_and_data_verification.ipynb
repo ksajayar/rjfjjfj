{
  "cells": [
    {
      "cell_type": "markdown",
      "metadata": {
        "id": "view-in-github",
        "colab_type": "text"
      },
      "source": [
        "<a href=\"https://colab.research.google.com/github/rjfjjfj/rjfjjfj/blob/main/Copy_of_DataValidation_and_data_verification.ipynb\" target=\"_parent\"><img src=\"https://colab.research.google.com/assets/colab-badge.svg\" alt=\"Open In Colab\"/></a>"
      ]
    },
    {
      "cell_type": "markdown",
      "metadata": {
        "id": "Lh4XK_lMSpSp"
      },
      "source": [
        "Data validation\n",
        "\n",
        "Length Check"
      ]
    },
    {
      "cell_type": "code",
      "execution_count": null,
      "metadata": {
        "colab": {
          "base_uri": "https://localhost:8080/"
        },
        "id": "MosA9gQHRWOl",
        "outputId": "fb7cd6e6-5062-4054-ba60-43b12f61dc29"
      },
      "outputs": [
        {
          "name": "stdout",
          "output_type": "stream",
          "text": [
            "list is empty\n"
          ]
        }
      ],
      "source": [
        "l1=[15,74,8,2,22]\n",
        "l2=[]\n",
        "def calaverage(l):\n",
        "  if len(l)>0:\n",
        "    sum_list=sum(l)\n",
        "    avg=sum_list/len(l)\n",
        "    print(avg)\n",
        "  else:\n",
        "    print(\"list is empty\")\n",
        "\n",
        "calaverage(l2)"
      ]
    },
    {
      "cell_type": "code",
      "source": [
        "a=int(input(\"Enter any number\"))\n",
        "b=int(input(\"Enter second\"))\n",
        "c=a/b\n",
        "print(\"Division\",c)"
      ],
      "metadata": {
        "colab": {
          "base_uri": "https://localhost:8080/",
          "height": 262
        },
        "id": "FH_cZlbbpRV9",
        "outputId": "cecd3179-fb45-4963-a649-4c324bc01fa5"
      },
      "execution_count": null,
      "outputs": [
        {
          "name": "stdout",
          "output_type": "stream",
          "text": [
            "Enter any number48\n",
            "Enter second0\n"
          ]
        },
        {
          "output_type": "error",
          "ename": "ZeroDivisionError",
          "evalue": "ignored",
          "traceback": [
            "\u001b[0;31m---------------------------------------------------------------------------\u001b[0m",
            "\u001b[0;31mZeroDivisionError\u001b[0m                         Traceback (most recent call last)",
            "\u001b[0;32m<ipython-input-5-50fec726ff8d>\u001b[0m in \u001b[0;36m<module>\u001b[0;34m()\u001b[0m\n\u001b[1;32m      1\u001b[0m \u001b[0ma\u001b[0m\u001b[0;34m=\u001b[0m\u001b[0mint\u001b[0m\u001b[0;34m(\u001b[0m\u001b[0minput\u001b[0m\u001b[0;34m(\u001b[0m\u001b[0;34m\"Enter any number\"\u001b[0m\u001b[0;34m)\u001b[0m\u001b[0;34m)\u001b[0m\u001b[0;34m\u001b[0m\u001b[0;34m\u001b[0m\u001b[0m\n\u001b[1;32m      2\u001b[0m \u001b[0mb\u001b[0m\u001b[0;34m=\u001b[0m\u001b[0mint\u001b[0m\u001b[0;34m(\u001b[0m\u001b[0minput\u001b[0m\u001b[0;34m(\u001b[0m\u001b[0;34m\"Enter second\"\u001b[0m\u001b[0;34m)\u001b[0m\u001b[0;34m)\u001b[0m\u001b[0;34m\u001b[0m\u001b[0;34m\u001b[0m\u001b[0m\n\u001b[0;32m----> 3\u001b[0;31m \u001b[0mc\u001b[0m\u001b[0;34m=\u001b[0m\u001b[0ma\u001b[0m\u001b[0;34m/\u001b[0m\u001b[0mb\u001b[0m\u001b[0;34m\u001b[0m\u001b[0;34m\u001b[0m\u001b[0m\n\u001b[0m\u001b[1;32m      4\u001b[0m \u001b[0mprint\u001b[0m\u001b[0;34m(\u001b[0m\u001b[0;34m\"Division\"\u001b[0m\u001b[0;34m,\u001b[0m\u001b[0mc\u001b[0m\u001b[0;34m)\u001b[0m\u001b[0;34m\u001b[0m\u001b[0;34m\u001b[0m\u001b[0m\n",
            "\u001b[0;31mZeroDivisionError\u001b[0m: division by zero"
          ]
        }
      ]
    },
    {
      "cell_type": "code",
      "source": [
        "city_name=None\n",
        "l=len(city_name)\n",
        "print(l)"
      ],
      "metadata": {
        "colab": {
          "base_uri": "https://localhost:8080/",
          "height": 207
        },
        "id": "QtTjoqvZrMkX",
        "outputId": "67d2c874-05cb-4783-f59d-59b0ada59128"
      },
      "execution_count": null,
      "outputs": [
        {
          "output_type": "error",
          "ename": "TypeError",
          "evalue": "ignored",
          "traceback": [
            "\u001b[0;31m---------------------------------------------------------------------------\u001b[0m",
            "\u001b[0;31mTypeError\u001b[0m                                 Traceback (most recent call last)",
            "\u001b[0;32m<ipython-input-8-1ddcbc2b9fa4>\u001b[0m in \u001b[0;36m<module>\u001b[0;34m()\u001b[0m\n\u001b[1;32m      1\u001b[0m \u001b[0mcity_name\u001b[0m\u001b[0;34m=\u001b[0m\u001b[0;32mNone\u001b[0m\u001b[0;34m\u001b[0m\u001b[0;34m\u001b[0m\u001b[0m\n\u001b[0;32m----> 2\u001b[0;31m \u001b[0ml\u001b[0m\u001b[0;34m=\u001b[0m\u001b[0mlen\u001b[0m\u001b[0;34m(\u001b[0m\u001b[0mcity_name\u001b[0m\u001b[0;34m)\u001b[0m\u001b[0;34m\u001b[0m\u001b[0;34m\u001b[0m\u001b[0m\n\u001b[0m\u001b[1;32m      3\u001b[0m \u001b[0mprint\u001b[0m\u001b[0;34m(\u001b[0m\u001b[0ml\u001b[0m\u001b[0;34m)\u001b[0m\u001b[0;34m\u001b[0m\u001b[0;34m\u001b[0m\u001b[0m\n",
            "\u001b[0;31mTypeError\u001b[0m: object of type 'NoneType' has no len()"
          ]
        }
      ]
    },
    {
      "cell_type": "markdown",
      "metadata": {
        "id": "7Hi2Hu49TBeR"
      },
      "source": [
        "Range Check"
      ]
    },
    {
      "cell_type": "code",
      "execution_count": null,
      "metadata": {
        "colab": {
          "background_save": true,
          "base_uri": "https://localhost:8080/",
          "height": 133
        },
        "id": "YTVJOkXtS3OJ",
        "outputId": "abff005f-efb0-4f3e-a0d8-7bdae62423ad"
      },
      "outputs": [
        {
          "ename": "SyntaxError",
          "evalue": "ignored",
          "output_type": "error",
          "traceback": [
            "\u001b[0;36m  File \u001b[0;32m\"<ipython-input-1-8aafeaa1d8f7>\"\u001b[0;36m, line \u001b[0;32m2\u001b[0m\n\u001b[0;31m    if user_input <0 or user_input>100:\u001b[0m\n\u001b[0m                                      ^\u001b[0m\n\u001b[0;31mSyntaxError\u001b[0m\u001b[0;31m:\u001b[0m invalid syntax\n"
          ]
        }
      ],
      "source": [
        "user_input = int(input('Enter a number between 0 to 100:')\n",
        "if user_input <0 or user_input>100:\n",
        "  print('You have entered an incorrect number. Enter a number between 0 to 100:')\n",
        "if user_input>= 75: \n",
        "  print('Your grade is A1')\n",
        "elif user_input>=70 and user_input<=74: \n",
        "  print('Your grade is A2')\n",
        "elif user_input >= 65 and user_input <= 69:\n",
        "  print('Your grade is B3')\n",
        "elif user_input >= 60 and user_input <=64:\n",
        "  print('Grade is b4')\n",
        "elif user_input>= 55 and user_input <= 59:\n",
        "  print('Grade is C5')\n",
        "elif user_input >= 50 and user_input<=54:\n",
        "  print('Grade is C6')\n",
        "else: \n",
        "  print('You failed.')\n",
        "\n"
      ]
    },
    {
      "cell_type": "code",
      "execution_count": null,
      "metadata": {
        "colab": {
          "base_uri": "https://localhost:8080/"
        },
        "id": "DuUMg4jtXB3K",
        "outputId": "cd1dae92-defe-4bca-fbd1-61b76b5fbb71"
      },
      "outputs": [
        {
          "name": "stdout",
          "output_type": "stream",
          "text": [
            "Enter a number between 0 to 100:120\n",
            "invalid range, please enter value between 0 to 100\n",
            "Enter a number between 0 to 100:-5\n",
            "invalid range, please enter value between 0 to 100\n",
            "Enter a number between 0 to 100:52\n",
            "Grade is C6\n"
          ]
        }
      ],
      "source": [
        "user_input=None\n",
        "while user_input==None:\n",
        "  user_input = int(input('Enter a number between 0 to 100:'))\n",
        "  if user_input<=0 or user_input>100:\n",
        "    print(\"invalid range, please enter value between 0 to 100\")\n",
        "    user_input=None\n",
        "if user_input>= 75: \n",
        "  print('Your grade is A1')\n",
        "elif user_input>=70 and user_input<=74: \n",
        "  print('Your grade is A2')\n",
        "elif user_input >= 65 and user_input <= 69:\n",
        "  print('Your grade is B3')\n",
        "elif user_input >= 60 and user_input <=64:\n",
        "  print('Grade is b4')\n",
        "elif user_input>= 55 and user_input <= 59:\n",
        "  print('Grade is C5')\n",
        "elif user_input >= 50 and user_input<=54:\n",
        "  print('Grade is C6')\n",
        "else: \n",
        "  print('You failed.')\n"
      ]
    },
    {
      "cell_type": "code",
      "execution_count": null,
      "metadata": {
        "colab": {
          "base_uri": "https://localhost:8080/"
        },
        "id": "5BWzdFBVahVw",
        "outputId": "ee87b531-6ce5-45bc-8fef-546da7462b67"
      },
      "outputs": [
        {
          "name": "stdout",
          "output_type": "stream",
          "text": [
            "Enter email addresshjhjkhj.com\n",
            "-1\n"
          ]
        }
      ],
      "source": [
        "email=input(\"Enter email address\")\n",
        "s1=email.find(\"@\")\n",
        "print(s1)\n",
        "if email[s1] in email == False:\n",
        "  print(\"missing @ in address\")\n"
      ]
    },
    {
      "cell_type": "code",
      "execution_count": null,
      "metadata": {
        "colab": {
          "base_uri": "https://localhost:8080/"
        },
        "id": "N-WUjPWZcvjn",
        "outputId": "9b7f0e13-9e21-4fa1-f0aa-1f03e21637e9"
      },
      "outputs": [
        {
          "name": "stdout",
          "output_type": "stream",
          "text": [
            "/bin/bash: line 0: help: no help topics match `seaborn'.  Try `help help' or `man -k seaborn' or `info seaborn'.\n"
          ]
        }
      ],
      "source": [
        "!help seaborn"
      ]
    },
    {
      "cell_type": "markdown",
      "metadata": {
        "id": "5UIYupC8dxgn"
      },
      "source": [
        "Presence Check\n"
      ]
    },
    {
      "cell_type": "code",
      "execution_count": null,
      "metadata": {
        "colab": {
          "base_uri": "https://localhost:8080/"
        },
        "id": "9HPhJPtFcA6e",
        "outputId": "572672bb-2606-40d9-fca8-2c1cbf4810d8"
      },
      "outputs": [
        {
          "name": "stdout",
          "output_type": "stream",
          "text": [
            "Enter email addresshrlp@gmail.com\n",
            "valid\n"
          ]
        }
      ],
      "source": [
        "import re\n",
        "#regular expression\n",
        "email=input(\"Enter email address\")\n",
        "if(re.search(\"@\",email)):\n",
        "  print(\"valid\")\n",
        "else:\n",
        "  print(\"your email id is missing @\")\n",
        "\n"
      ]
    },
    {
      "cell_type": "code",
      "execution_count": null,
      "metadata": {
        "colab": {
          "base_uri": "https://localhost:8080/"
        },
        "id": "XxFow0lEfio1",
        "outputId": "21de6e0f-8a7e-4fdc-bae4-da9b1154795b"
      },
      "outputs": [
        {
          "name": "stdout",
          "output_type": "stream",
          "text": [
            "Enter time(HH:MM)28:69\n",
            "28:69\n",
            "<class 'str'>\n",
            "hours= 28\n",
            "minutes= 69\n"
          ]
        }
      ],
      "source": [
        "time=input(\"Enter time(HH:MM)\")\n",
        "print(time)\n",
        "print(type(time))\n",
        "if len(time)==5:\n",
        "  if time[2]==\":\":\n",
        "    \n",
        "    hour=time[:2] \n",
        "    print(\"hours=\",hour)\n",
        "    min=time[-2:]\n",
        "    print(\"minutes=\",min)\n",
        "  else:\n",
        "   print(\"Invalid time\")\n"
      ]
    },
    {
      "cell_type": "markdown",
      "source": [
        ""
      ],
      "metadata": {
        "id": "AKefxatarlHN"
      }
    },
    {
      "cell_type": "markdown",
      "source": [
        "offical school lesson"
      ],
      "metadata": {
        "id": "9jF200zprunH"
      }
    },
    {
      "cell_type": "code",
      "source": [
        "#Exercise 2 \n",
        "def check_stock_id(user_input):\n",
        "  sum1 = 0\n",
        "  user_input_1 = user_input[::-1]\n",
        "  for i in user_input_1:\n",
        "    \n",
        "    sum = (user_input.index(i)+1)*int(i)\n",
        "    sum1 = sum1 + sum\n",
        "  result = sum%11\n",
        "  return result \n",
        "check_stock_id('810230')\n",
        "check_stock_id('371025')\n",
        "  \n"
      ],
      "metadata": {
        "colab": {
          "base_uri": "https://localhost:8080/"
        },
        "id": "x9WMxx1kryPd",
        "outputId": "a30a11cf-a9ae-4825-8cfc-994738828b96"
      },
      "execution_count": null,
      "outputs": [
        {
          "output_type": "execute_result",
          "data": {
            "text/plain": [
              "3"
            ]
          },
          "metadata": {},
          "execution_count": 3
        }
      ]
    },
    {
      "cell_type": "code",
      "source": [
        "#Exercise 3 \n"
      ],
      "metadata": {
        "id": "RNSdgvcMtbwW"
      },
      "execution_count": null,
      "outputs": []
    },
    {
      "cell_type": "code",
      "source": [
        "pros_and_cons = ([\"subscribing helps James\", \"subscribing feels good\"],\n",
        "                     [\"I have to click\"])\n",
        "pros = pros_and_cons[0]\n",
        "pros += [\"big numbers are cool\"]  # fine\n",
        "\n",
        "try:\n",
        "  pros_and_cons[0] += [\"James is cool\"]  # maybe?\n",
        "except TypeError:\n",
        "    print(\"Error!\")\n",
        "print(pros_and_cons)"
      ],
      "metadata": {
        "colab": {
          "base_uri": "https://localhost:8080/"
        },
        "id": "n1WsUdXRgn18",
        "outputId": "26c28f8c-64b0-4bce-9387-e96dc2136b35"
      },
      "execution_count": null,
      "outputs": [
        {
          "output_type": "stream",
          "name": "stdout",
          "text": [
            "Error!\n",
            "(['subscribing helps James', 'subscribing feels good', 'big numbers are cool', 'James is cool'], ['I have to click'])\n"
          ]
        }
      ]
    },
    {
      "cell_type": "code",
      "source": [
        ""
      ],
      "metadata": {
        "id": "iw_Z9YnFoa5y"
      },
      "execution_count": null,
      "outputs": []
    },
    {
      "cell_type": "markdown",
      "source": [
        "- Data validation: \n",
        " - automatic computer process of ensuring that input data supplied to the system satisdies a set of rules that i s sensible,complete and reasonable.\n",
        "- Data verification\n",
        " - data entered exactly matches the original source.\n",
        " - confirmation of data recieved by a system \n",
        " - effective process \n",
        " - but it does not always ensure data accuracy because the incorrecrt data could have been reentered during the re-entry.\n",
        "\n",
        "Type of verification: \n",
        "- Double entry\n",
        " - enter data twice and comapre both copies \n",
        "- Proofreading\n",
        " - having a human to personally check the input data with the original document \n",
        "\n",
        "Type of validation:\n",
        "- Presence check\n",
        " - ensure data is entered(any  data)\n",
        "- length check\n",
        " - ensure input data has same number of  characters as correct data\n",
        "- Range check\n",
        " - ensure data is within a pre-determined range\n",
        "- Format check \n",
        " - data matches with a pattern or required arrangement \n",
        "- Check Digit\n",
        " - data is used for self-checking and value of check digit which is an extra digit added to the end of data  is predetermined by a specified algorithm. \n",
        "\n",
        "Data entry errors:\n",
        "- Transcription error \n",
        "- transposition error \n",
        "Type of errors:\n",
        "- syntax error\n",
        " - code does not follow syntax rules of the programming language\n",
        " - detected when compiler or interpreter tries to translate source code to machine code\n",
        " - program cannot run if it has syntax errors \n",
        " - e.g. \n",
        "   - Nonetype has no len() type error \n",
        "- Runtime error\n",
        " - error that takes place during th execrution of of a program \n",
        " - eg:\n",
        "  - input error \n",
        "  - index out of bound eror \n",
        "  - undeclared variable error \n",
        "  - arithmetic error e.g. zero division error \n",
        "  - out of memory error \n",
        "   - often undesired state of computer station where no additional memeory can be allocated for the use by programs.\n",
        "   - result of trying to create more space for program memory than is avaiilable in the heap memory\n",
        "- Logic error\n",
        " - program can run but not expected output \n",
        "\n",
        "Designing test cases:\n",
        " - normal conditions\n",
        "  - test data that should be accpeted by the system \n",
        " - boundary conditions\n",
        "  - test data at the upper limit or lower limits of expectation that should be accpeted by the system \n",
        " - erroneous conditions\n",
        "  - aka abnormal data\n",
        "  - errooneous data falls outside of what is acceptable and should be rejected by the system \n",
        "\n",
        "\n"
      ],
      "metadata": {
        "id": "G5-eIItWlh4l"
      }
    }
  ],
  "metadata": {
    "colab": {
      "collapsed_sections": [],
      "name": "Copy of DataValidation and data verification.ipynb",
      "provenance": [],
      "include_colab_link": true
    },
    "kernelspec": {
      "display_name": "Python 3",
      "name": "python3"
    },
    "language_info": {
      "name": "python"
    }
  },
  "nbformat": 4,
  "nbformat_minor": 0
}